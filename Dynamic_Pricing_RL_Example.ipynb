{
  "nbformat": 4,
  "nbformat_minor": 0,
  "metadata": {
    "colab": {
      "provenance": [],
      "authorship_tag": "ABX9TyMPLuGsJBdrUKzZiNlUNPsf",
      "include_colab_link": true
    },
    "kernelspec": {
      "name": "python3",
      "display_name": "Python 3"
    },
    "language_info": {
      "name": "python"
    }
  },
  "cells": [
    {
      "cell_type": "markdown",
      "metadata": {
        "id": "view-in-github",
        "colab_type": "text"
      },
      "source": [
        "<a href=\"https://colab.research.google.com/github/sjpritchard2001/MSBA-Team-14/blob/main/Dynamic_Pricing_RL_Example.ipynb\" target=\"_parent\"><img src=\"https://colab.research.google.com/assets/colab-badge.svg\" alt=\"Open In Colab\"/></a>"
      ]
    },
    {
      "cell_type": "code",
      "source": [
        "import random\n",
        "\n",
        "# Set random seed for reproducibility\n",
        "random.seed(1693)\n",
        "\n",
        "# Base price of beef (before markdown)\n",
        "base_price = 15.99\n",
        "\n",
        "# Shelf life settings\n",
        "max_shelf_life = 7           # Total days before product expires\n",
        "markdown_rate = 0.10         # Daily markdown rate (10% off)\n",
        "n_customers = 10             # Number of potential customers per day\n",
        "\n",
        "# Function to simulate customer purchases and revenue for a given price\n",
        "def simulate_day(effective_price):\n",
        "    purchases = 0\n",
        "    for _ in range(n_customers):\n",
        "        # Calculate probability of purchase based on price\n",
        "        # As price drops, probability increases\n",
        "        prob_buy = max(0.1, 1 - (effective_price - 5.99) / 10)\n",
        "        if random.random() < prob_buy:\n",
        "            purchases += 1\n",
        "    # Total revenue is purchases times the price\n",
        "    revenue = purchases * effective_price\n",
        "    return purchases, revenue\n",
        "\n",
        "# Print header\n",
        "print(\"--- Beef Pricing Over Shelf Life ---\")\n",
        "\n",
        "# Loop over each day of the shelf life\n",
        "for day in range(max_shelf_life):\n",
        "    # Calculate remaining shelf life\n",
        "    shelf_life_remaining = max_shelf_life - day\n",
        "\n",
        "    # Apply compounded markdown for the current day\n",
        "    discount_multiplier = (1 - markdown_rate) ** day\n",
        "    effective_price = round(base_price * discount_multiplier, 2)\n",
        "\n",
        "    # Simulate how many customers purchase at this price and the revenue earned\n",
        "    purchases, revenue = simulate_day(effective_price)\n",
        "\n",
        "    # Output results for the day\n",
        "    print(f\"Day {day + 1} — Shelf Life: {shelf_life_remaining} days — \"\n",
        "          f\"Price: ${effective_price:.2f} — Units Sold: {purchases} — Revenue: ${revenue:.2f}\")\n"
      ],
      "metadata": {
        "colab": {
          "base_uri": "https://localhost:8080/"
        },
        "id": "oxuXIfoeNHea",
        "outputId": "4d6c4cfe-d433-4406-a8a6-f68d33b5b21e"
      },
      "execution_count": 7,
      "outputs": [
        {
          "output_type": "stream",
          "name": "stdout",
          "text": [
            "--- Beef Pricing Over Shelf Life ---\n",
            "Day 1 — Shelf Life: 7 days — Price: $15.99 — Units Sold: 0 — Revenue: $0.00\n",
            "Day 2 — Shelf Life: 6 days — Price: $14.39 — Units Sold: 0 — Revenue: $0.00\n",
            "Day 3 — Shelf Life: 5 days — Price: $12.95 — Units Sold: 2 — Revenue: $25.90\n",
            "Day 4 — Shelf Life: 4 days — Price: $11.66 — Units Sold: 4 — Revenue: $46.64\n",
            "Day 5 — Shelf Life: 3 days — Price: $10.49 — Units Sold: 6 — Revenue: $62.94\n",
            "Day 6 — Shelf Life: 2 days — Price: $9.44 — Units Sold: 5 — Revenue: $47.20\n",
            "Day 7 — Shelf Life: 1 days — Price: $8.50 — Units Sold: 7 — Revenue: $59.50\n"
          ]
        }
      ]
    }
  ]
}